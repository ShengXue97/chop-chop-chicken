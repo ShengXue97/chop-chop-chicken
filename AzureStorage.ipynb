{
 "cells": [
  {
   "cell_type": "code",
   "execution_count": 7,
   "metadata": {},
   "outputs": [],
   "source": [
    "import os, uuid\n",
    "from azure.storage.blob import BlobServiceClient, BlobClient, ContainerClient, __version__"
   ]
  },
  {
   "cell_type": "code",
   "execution_count": 8,
   "metadata": {},
   "outputs": [],
   "source": [
    "def upload_file(upload_file_path, data):\n",
    "    connect_str = \"DefaultEndpointsProtocol=https;AccountName=xue;AccountKey=Xp5+gHw5N4e9mAhYFpNS8WNNbFJ/XfuhOlhSTGSLsOzySDlsIOoeucjdixRidL+1JX6NkEka9Umq4QVHka9xFg==;EndpointSuffix=core.windows.net\"\n",
    "    blob_service_client = BlobServiceClient.from_connection_string(connect_str)\n",
    "    container_name = \"ccc\"\n",
    "    container_client = blob_service_client.get_container_client(container_name)\n",
    "    \n",
    "    file = open(upload_file_path, 'w')\n",
    "    file.write(data)\n",
    "    file.close()\n",
    "\n",
    "    # Upload the created file\n",
    "    with open(upload_file_path, \"rb\") as data:\n",
    "        container_client.upload_blob(upload_file_path, data, overwrite = True)"
   ]
  },
  {
   "cell_type": "code",
   "execution_count": 9,
   "metadata": {},
   "outputs": [],
   "source": [
    "def list_files():\n",
    "    connect_str = \"DefaultEndpointsProtocol=https;AccountName=xue;AccountKey=Xp5+gHw5N4e9mAhYFpNS8WNNbFJ/XfuhOlhSTGSLsOzySDlsIOoeucjdixRidL+1JX6NkEka9Umq4QVHka9xFg==;EndpointSuffix=core.windows.net\"\n",
    "    blob_service_client = BlobServiceClient.from_connection_string(connect_str)\n",
    "    container_name = \"ccc\"\n",
    "    container_client = blob_service_client.get_container_client(container_name)\n",
    "    \n",
    "    blob_list = container_client.list_blobs()\n",
    "    for blob in blob_list:\n",
    "        print(blob.name)"
   ]
  },
  {
   "cell_type": "code",
   "execution_count": 10,
   "metadata": {},
   "outputs": [],
   "source": [
    "def download_file(download_file_path):\n",
    "    connect_str = \"DefaultEndpointsProtocol=https;AccountName=xue;AccountKey=Xp5+gHw5N4e9mAhYFpNS8WNNbFJ/XfuhOlhSTGSLsOzySDlsIOoeucjdixRidL+1JX6NkEka9Umq4QVHka9xFg==;EndpointSuffix=core.windows.net\"\n",
    "    blob_service_client = BlobServiceClient.from_connection_string(connect_str)\n",
    "    container_name = \"ccc\"\n",
    "    container_client = blob_service_client.get_container_client(container_name)\n",
    "    \n",
    "    result = container_client.download_blob(download_file_path).readall().decode(\"utf-8\")\n",
    "    return result"
   ]
  },
  {
   "cell_type": "code",
   "execution_count": 11,
   "metadata": {},
   "outputs": [],
   "source": [
    "upload_file(\"scores.txt\", \"dw w,,12/27/2020 08:31:34,0;Hmmmm,,12/27/2020 15:55:25,0;few,,01/02/2021 04:01:14,12;bear,,01/02/2021 05:32:44,12;Andy,a@a.com,12/27/2020 06:49:49,15;k,-,01/05/2021 05:47:02,27;ssgs,,12/28/2020 02:04:23,27;Mary,2@2.com,12/27/2020 07:00:09,37;test1,ttest@xx.xx,12/28/2020 07:41:24,56;Qin,,12/26/2020 03:03:54,66;qin,-,01/05/2021 05:39:25,67;snow,,01/02/2021 01:57:57,70;M,,01/02/2021 06:00:42,88;hjjghjk,,01/02/2021 11:49:20,89;awf,,12/27/2020 08:58:21,97;xin yi,,12/26/2020 07:14:56,97;marco,,01/02/2021 14:34:16,101;sjklfkl,,12/28/2020 01:56:32,113;Grace,gracepan@u.nus.edu,12/26/2020 04:34:37,143;namiwa,,01/04/2021 14:07:32,143;d,,12/31/2020 04:33:36,156;MW,,12/28/2020 03:52:06,156;Test,,01/05/2021 03:23:56,161;xinyi,,12/26/2020 07:11:11,161;Joel,joelloo20@gmail.com,12/28/2020 10:18:15,174;sdd,,12/29/2020 12:29:53,175;wa w,,12/27/2020 03:56:06,177;yzz,,12/28/2020 02:29:03,184;jaywalker,xxx@xxx.xx.xx,12/28/2020 07:28:20,187;khai,,12/28/2020 02:14:20,210;stephen,,12/28/2020 05:55:39,238;Bao,nhobao2000@gmail.com,12/27/2020 16:47:35,251;Potato,,12/29/2020 15:37:55,260;c,,01/03/2021 14:14:26,269;NUS lin,-,01/05/2021 05:41:21,291;RILEY,,12/29/2020 12:31:10,321;reb,,01/01/2021 14:43:32,389;123,,01/03/2021 14:15:45,438;testy,,01/02/2021 04:31:01,475;q,,12/28/2020 01:28:38,487;Riley,,12/29/2020 13:23:23,540;HI,,12/30/2020 03:45:27,559;Samantha,,12/26/2020 02:13:14,580;mushmellow,,12/30/2020 03:37:49,591;apple,,12/29/2020 15:14:19,606;a,,12/30/2020 02:58:15,613;qq,,01/02/2021 06:01:45,683;xue,,12/27/2020 11:01:21,805;,,01/02/2021 01:36:45,867;Bear,,12/30/2020 16:08:01,915;Edwin Tan,,12/26/2020 03:17:53,952;taiping,,12/30/2020 09:26:43,994;Tai Ping,,12/30/2020 16:05:17,1032;Penguin,,12/30/2020 04:58:54,1240;cute qin,,01/05/2021 03:18:38,1364;Sim Sheng Xue,,01/01/2021 15:07:10,1501\")"
   ]
  },
  {
   "cell_type": "code",
   "execution_count": 12,
   "metadata": {},
   "outputs": [
    {
     "data": {
      "text/plain": [
       "'dw w,,12/27/2020 08:31:34,0;Hmmmm,,12/27/2020 15:55:25,0;few,,01/02/2021 04:01:14,12;bear,,01/02/2021 05:32:44,12;Andy,a@a.com,12/27/2020 06:49:49,15;k,-,01/05/2021 05:47:02,27;ssgs,,12/28/2020 02:04:23,27;Mary,2@2.com,12/27/2020 07:00:09,37;test1,ttest@xx.xx,12/28/2020 07:41:24,56;Qin,,12/26/2020 03:03:54,66;qin,-,01/05/2021 05:39:25,67;snow,,01/02/2021 01:57:57,70;M,,01/02/2021 06:00:42,88;hjjghjk,,01/02/2021 11:49:20,89;awf,,12/27/2020 08:58:21,97;xin yi,,12/26/2020 07:14:56,97;marco,,01/02/2021 14:34:16,101;sjklfkl,,12/28/2020 01:56:32,113;Grace,gracepan@u.nus.edu,12/26/2020 04:34:37,143;namiwa,,01/04/2021 14:07:32,143;d,,12/31/2020 04:33:36,156;MW,,12/28/2020 03:52:06,156;Test,,01/05/2021 03:23:56,161;xinyi,,12/26/2020 07:11:11,161;Joel,joelloo20@gmail.com,12/28/2020 10:18:15,174;sdd,,12/29/2020 12:29:53,175;wa w,,12/27/2020 03:56:06,177;yzz,,12/28/2020 02:29:03,184;jaywalker,xxx@xxx.xx.xx,12/28/2020 07:28:20,187;khai,,12/28/2020 02:14:20,210;stephen,,12/28/2020 05:55:39,238;Bao,nhobao2000@gmail.com,12/27/2020 16:47:35,251;Potato,,12/29/2020 15:37:55,260;c,,01/03/2021 14:14:26,269;NUS lin,-,01/05/2021 05:41:21,291;RILEY,,12/29/2020 12:31:10,321;reb,,01/01/2021 14:43:32,389;123,,01/03/2021 14:15:45,438;testy,,01/02/2021 04:31:01,475;q,,12/28/2020 01:28:38,487;Riley,,12/29/2020 13:23:23,540;HI,,12/30/2020 03:45:27,559;Samantha,,12/26/2020 02:13:14,580;mushmellow,,12/30/2020 03:37:49,591;apple,,12/29/2020 15:14:19,606;a,,12/30/2020 02:58:15,613;qq,,01/02/2021 06:01:45,683;xue,,12/27/2020 11:01:21,805;,,01/02/2021 01:36:45,867;Bear,,12/30/2020 16:08:01,915;Edwin Tan,,12/26/2020 03:17:53,952;taiping,,12/30/2020 09:26:43,994;Tai Ping,,12/30/2020 16:05:17,1032;Penguin,,12/30/2020 04:58:54,1240;cute qin,,01/05/2021 03:18:38,1364;Sim Sheng Xue,,01/01/2021 15:07:10,1501'"
      ]
     },
     "execution_count": 12,
     "metadata": {},
     "output_type": "execute_result"
    }
   ],
   "source": [
    "download_file(\"scores.txt\")"
   ]
  },
  {
   "cell_type": "code",
   "execution_count": null,
   "metadata": {},
   "outputs": [],
   "source": []
  }
 ],
 "metadata": {
  "kernelspec": {
   "display_name": "Python 3",
   "language": "python",
   "name": "python3"
  },
  "language_info": {
   "codemirror_mode": {
    "name": "ipython",
    "version": 3
   },
   "file_extension": ".py",
   "mimetype": "text/x-python",
   "name": "python",
   "nbconvert_exporter": "python",
   "pygments_lexer": "ipython3",
   "version": "3.6.9"
  }
 },
 "nbformat": 4,
 "nbformat_minor": 2
}
