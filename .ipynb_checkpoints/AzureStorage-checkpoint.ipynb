{
 "cells": [
  {
   "cell_type": "code",
   "execution_count": 1,
   "metadata": {},
   "outputs": [],
   "source": [
    "import os, uuid\n",
    "from azure.storage.blob import BlobServiceClient, BlobClient, ContainerClient, __version__"
   ]
  },
  {
   "cell_type": "code",
   "execution_count": 2,
   "metadata": {},
   "outputs": [],
   "source": [
    "def upload_file(upload_file_path, data):\n",
    "    connect_str = \"DefaultEndpointsProtocol=https;AccountName=xue;AccountKey=Xp5+gHw5N4e9mAhYFpNS8WNNbFJ/XfuhOlhSTGSLsOzySDlsIOoeucjdixRidL+1JX6NkEka9Umq4QVHka9xFg==;EndpointSuffix=core.windows.net\"\n",
    "    blob_service_client = BlobServiceClient.from_connection_string(connect_str)\n",
    "    container_name = \"ccc\"\n",
    "    container_client = blob_service_client.get_container_client(container_name)\n",
    "    \n",
    "    file = open(upload_file_path, 'w')\n",
    "    file.write(data)\n",
    "    file.close()\n",
    "\n",
    "    # Upload the created file\n",
    "    with open(upload_file_path, \"rb\") as data:\n",
    "        container_client.upload_blob(upload_file_path, data, overwrite = True)"
   ]
  },
  {
   "cell_type": "code",
   "execution_count": 3,
   "metadata": {},
   "outputs": [],
   "source": [
    "def list_files():\n",
    "    connect_str = \"DefaultEndpointsProtocol=https;AccountName=xue;AccountKey=Xp5+gHw5N4e9mAhYFpNS8WNNbFJ/XfuhOlhSTGSLsOzySDlsIOoeucjdixRidL+1JX6NkEka9Umq4QVHka9xFg==;EndpointSuffix=core.windows.net\"\n",
    "    blob_service_client = BlobServiceClient.from_connection_string(connect_str)\n",
    "    container_name = \"ccc\"\n",
    "    container_client = blob_service_client.get_container_client(container_name)\n",
    "    \n",
    "    blob_list = container_client.list_blobs()\n",
    "    for blob in blob_list:\n",
    "        print(blob.name)"
   ]
  },
  {
   "cell_type": "code",
   "execution_count": 4,
   "metadata": {},
   "outputs": [],
   "source": [
    "def download_file(download_file_path):\n",
    "    connect_str = \"DefaultEndpointsProtocol=https;AccountName=xue;AccountKey=Xp5+gHw5N4e9mAhYFpNS8WNNbFJ/XfuhOlhSTGSLsOzySDlsIOoeucjdixRidL+1JX6NkEka9Umq4QVHka9xFg==;EndpointSuffix=core.windows.net\"\n",
    "    blob_service_client = BlobServiceClient.from_connection_string(connect_str)\n",
    "    container_name = \"ccc\"\n",
    "    container_client = blob_service_client.get_container_client(container_name)\n",
    "    \n",
    "    with open(download_file_path, \"wb\") as download_file:\n",
    "        return (container_client.download_blob(download_file_path).readall())"
   ]
  },
  {
   "cell_type": "code",
   "execution_count": 7,
   "metadata": {},
   "outputs": [],
   "source": [
    "upload_file(\"scores.txt\", \"umm2\")"
   ]
  },
  {
   "cell_type": "code",
   "execution_count": 8,
   "metadata": {},
   "outputs": [
    {
     "name": "stdout",
     "output_type": "stream",
     "text": [
      "b'umm2'\n"
     ]
    }
   ],
   "source": [
    "download_file(\"scores.txt\")"
   ]
  },
  {
   "cell_type": "code",
   "execution_count": null,
   "metadata": {},
   "outputs": [],
   "source": []
  }
 ],
 "metadata": {
  "kernelspec": {
   "display_name": "Python 3",
   "language": "python",
   "name": "python3"
  },
  "language_info": {
   "codemirror_mode": {
    "name": "ipython",
    "version": 3
   },
   "file_extension": ".py",
   "mimetype": "text/x-python",
   "name": "python",
   "nbconvert_exporter": "python",
   "pygments_lexer": "ipython3",
   "version": "3.6.9"
  }
 },
 "nbformat": 4,
 "nbformat_minor": 2
}
